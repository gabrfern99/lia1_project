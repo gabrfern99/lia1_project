{
  "nbformat": 4,
  "nbformat_minor": 0,
  "metadata": {
    "colab": {
      "provenance": [],
      "authorship_tag": "ABX9TyPi1vspIUu4gXU+OaxiiD00",
      "include_colab_link": true
    },
    "kernelspec": {
      "name": "python3",
      "display_name": "Python 3"
    },
    "language_info": {
      "name": "python"
    }
  },
  "cells": [
    {
      "cell_type": "markdown",
      "metadata": {
        "id": "view-in-github",
        "colab_type": "text"
      },
      "source": [
        "<a href=\"https://colab.research.google.com/github/gabrfern99/lia1_project/blob/main/LIA_Project.ipynb\" target=\"_parent\"><img src=\"https://colab.research.google.com/assets/colab-badge.svg\" alt=\"Open In Colab\"/></a>"
      ]
    },
    {
      "cell_type": "markdown",
      "source": [
        "# Base de Imagens de Sintomas de Doenças de Plantas (PDDB)\n",
        "\n",
        "## Sobre o Projeto\n",
        "\n",
        "Este notebook do Google Colab foi desenvolvido para trabalhar com a Base de Imagens de Sintomas de Doenças de Plantas (PDDB - Plant Disease Database). O projeto visa utilizar técnicas de visão computacional e aprendizado de máquina para identificar e classificar doenças em plantas com base em imagens de seus sintomas.\n",
        "\n",
        "## Funcionalidades\n",
        "\n",
        "- Carregamento e pré-processamento de imagens da PDDB\n",
        "- Implementação de modelos de aprendizado profundo para classificação de doenças\n",
        "- Visualização de resultados e métricas de desempenho\n",
        "- Possibilidade de fazer previsões em novas imagens"
      ],
      "metadata": {
        "id": "pDEPAyYLM3on"
      }
    },
    {
      "cell_type": "markdown",
      "source": [],
      "metadata": {
        "id": "8p4PbHwEPPg2"
      }
    },
    {
      "cell_type": "markdown",
      "source": [
        "# Obtendo o dataset Digipathos para ser processado"
      ],
      "metadata": {
        "id": "AwB4zmq_PR2S"
      }
    },
    {
      "cell_type": "markdown",
      "source": [
        "```bash\n",
        "wget https://www.digipathos-rep.cnptia.embrapa.br/jspui/zipsincollection/123456789/3\n",
        "```"
      ],
      "metadata": {
        "id": "kq07Rw_WPVvx"
      }
    }
  ]
}